{
 "cells": [
  {
   "cell_type": "markdown",
   "id": "cd9f4cc7-2993-4aa5-9403-34badeaf6a24",
   "metadata": {},
   "source": [
    "We are going to explore some basics operations in OpenCV"
   ]
  },
  {
   "cell_type": "code",
   "execution_count": 1,
   "id": "ee210ba3-3254-4cd5-9573-6cdfca72ce7d",
   "metadata": {},
   "outputs": [],
   "source": [
    "#importing libraries\n",
    "import cv2\n",
    "import matplotlib.pyplot as plt"
   ]
  },
  {
   "cell_type": "code",
   "execution_count": 2,
   "id": "df33bca0-c748-48c6-a469-e50219c4db8b",
   "metadata": {},
   "outputs": [],
   "source": [
    "#reading the image\n",
    "image = cv2.imread('image_1.jpg', cv2.IMREAD_UNCHANGED)\n"
   ]
  },
  {
   "cell_type": "code",
   "execution_count": 3,
   "id": "17c49f4e-c358-4371-9d60-d3bc12d35186",
   "metadata": {},
   "outputs": [],
   "source": [
    "#Displaying the image\n",
    "cv2.imshow('Image', image)\n",
    "\n",
    "#Waiting for a key to close the windows\n",
    "cv2.waitKey(0)\n",
    "cv2.destroyAllWindows()"
   ]
  },
  {
   "cell_type": "code",
   "execution_count": 4,
   "id": "bb8f141a-115b-4bfc-991b-bb00459347c2",
   "metadata": {},
   "outputs": [
    {
     "data": {
      "text/plain": [
       "True"
      ]
     },
     "execution_count": 4,
     "metadata": {},
     "output_type": "execute_result"
    }
   ],
   "source": [
    "#writting a file\n",
    "img_grayscale = cv2.imread('image_1.jpg', 0)\n",
    "\n",
    "cv2.imwrite('image_1_grayscale.png', img_grayscale)"
   ]
  },
  {
   "cell_type": "markdown",
   "id": "483f180d-a8ce-48f9-b659-d3e451286bf0",
   "metadata": {},
   "source": [
    "Drawing Simple shapes using OpenCV"
   ]
  },
  {
   "cell_type": "markdown",
   "id": "27fd21dc-0694-4731-aede-d9eb865a3c1e",
   "metadata": {},
   "source": [
    "1. Line"
   ]
  },
  {
   "cell_type": "code",
   "execution_count": 16,
   "id": "17bf32c6-89eb-4098-823e-be4e5b7dd8ea",
   "metadata": {},
   "outputs": [],
   "source": [
    "import cv2\n",
    "import numpy as np"
   ]
  },
  {
   "cell_type": "code",
   "execution_count": 17,
   "id": "935dd79d-44bf-4a59-8749-257c9232ecd7",
   "metadata": {},
   "outputs": [],
   "source": [
    "#Image with full black background\n",
    "img = np.zeros((600, 600, 3), dtype='uint8')"
   ]
  },
  {
   "cell_type": "code",
   "execution_count": 19,
   "id": "255c343b-b739-42b7-9d26-2a60772e47f7",
   "metadata": {},
   "outputs": [],
   "source": [
    "#creating the line in the image\n",
    "cv2.line(img, (200, 200), (450, 450), (0, 0, 255), 2)\n",
    "cv2.imshow('dark', img)\n",
    "cv2.waitKey(0)\n",
    "cv2.destroyAllWindows()"
   ]
  },
  {
   "cell_type": "markdown",
   "id": "5ad457f9-1ac4-4048-a691-3931fb98b8fa",
   "metadata": {},
   "source": [
    "**Note:**\n",
    "The opencv will take the values in 'BGR' format, not as 'RGB' format."
   ]
  },
  {
   "cell_type": "code",
   "execution_count": 20,
   "id": "a68fab89-668b-4b2d-8466-8da1152130dd",
   "metadata": {},
   "outputs": [
    {
     "data": {
      "text/plain": [
       "numpy.ndarray"
      ]
     },
     "execution_count": 20,
     "metadata": {},
     "output_type": "execute_result"
    }
   ],
   "source": [
    "image = cv2.imread('image_1.jpg', cv2.IMREAD_UNCHANGED)\n",
    "type(image)"
   ]
  },
  {
   "cell_type": "markdown",
   "id": "9cff0f6c-f16b-416b-830f-0a59380663d4",
   "metadata": {},
   "source": [
    "2. Rectangle"
   ]
  },
  {
   "cell_type": "code",
   "execution_count": 25,
   "id": "b9dcc276-f83e-4b98-a417-fc16c1806ec2",
   "metadata": {},
   "outputs": [],
   "source": [
    "import cv2\n",
    "import numpy as np\n",
    "img = np.zeros((500, 500, 3), dtype='uint8')\n",
    "cv2.rectangle(img, (100, 100), (250, 250), (10, 231, 252), 3)\n",
    "cv2.imshow('Rectangle', img)\n",
    "cv2.waitKey(0)\n",
    "cv2.destroyAllWindows()"
   ]
  },
  {
   "cell_type": "code",
   "execution_count": null,
   "id": "c25dd807-475b-444c-a41f-cc17f5a43faf",
   "metadata": {},
   "outputs": [],
   "source": []
  },
  {
   "cell_type": "markdown",
   "id": "3bcf1785-40b7-43a5-89f0-394d73499743",
   "metadata": {},
   "source": [
    "3. Circle"
   ]
  },
  {
   "cell_type": "code",
   "execution_count": 34,
   "id": "63c80970-90ef-43bf-b68d-891a6ec63ac8",
   "metadata": {},
   "outputs": [],
   "source": [
    "import cv2\n",
    "import numpy as np\n",
    "img = np.zeros((500, 500, 3), dtype='uint8')\n",
    "cv2.circle(img, (250, 250), 80 , (200, 90, 152), 1)\n",
    "cv2.imshow('Circle', img)\n",
    "cv2.waitKey(0)\n",
    "cv2.destroyAllWindows()"
   ]
  },
  {
   "cell_type": "code",
   "execution_count": null,
   "id": "672021c5-4e40-48c8-9b60-4cbed5befd78",
   "metadata": {},
   "outputs": [],
   "source": []
  },
  {
   "cell_type": "markdown",
   "id": "d32ff597-add0-4d2f-b448-0a2b0cbb3389",
   "metadata": {},
   "source": [
    "4. Text"
   ]
  },
  {
   "cell_type": "code",
   "execution_count": 42,
   "id": "22debb3d-18bd-4224-9b86-b23b1076ca44",
   "metadata": {},
   "outputs": [],
   "source": [
    "import cv2\n",
    "import numpy as np\n",
    "img = np.zeros((500, 500, 3), dtype='uint8')\n",
    "font = cv2.FONT_HERSHEY_SIMPLEX\n",
    "cv2.putText(img, 'Hello', (100, 100), font, 1, (0, 120, 250), 2)\n",
    "cv2.imshow('Circle', img)\n",
    "cv2.waitKey(0)\n",
    "cv2.destroyAllWindows()"
   ]
  },
  {
   "cell_type": "code",
   "execution_count": null,
   "id": "fa5072ce-5333-483b-a46b-61bce87e45bd",
   "metadata": {},
   "outputs": [],
   "source": []
  }
 ],
 "metadata": {
  "kernelspec": {
   "display_name": "Python 3 (ipykernel)",
   "language": "python",
   "name": "python3"
  },
  "language_info": {
   "codemirror_mode": {
    "name": "ipython",
    "version": 3
   },
   "file_extension": ".py",
   "mimetype": "text/x-python",
   "name": "python",
   "nbconvert_exporter": "python",
   "pygments_lexer": "ipython3",
   "version": "3.12.3"
  }
 },
 "nbformat": 4,
 "nbformat_minor": 5
}
