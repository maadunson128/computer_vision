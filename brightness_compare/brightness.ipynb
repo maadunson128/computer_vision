{
 "cells": [
  {
   "cell_type": "markdown",
   "id": "7377f60c-148d-48e4-8095-40f64d0ac60d",
   "metadata": {},
   "source": [
    "**Image Brightness comparision**"
   ]
  },
  {
   "cell_type": "code",
   "execution_count": 85,
   "id": "2d05001d-80b1-40b4-9be1-66bb01f9ed19",
   "metadata": {},
   "outputs": [],
   "source": [
    "import cv2\n",
    "import numpy as np\n",
    "import matplotlib.pyplot as plt"
   ]
  },
  {
   "cell_type": "code",
   "execution_count": 129,
   "id": "f77c754e-79a5-40ef-a002-a2672aa39af2",
   "metadata": {},
   "outputs": [],
   "source": [
    "image_1 = cv2.imread(\"E:/Learning_skills/Computer_vision/data/brightness/image_1.png\", 1)"
   ]
  },
  {
   "cell_type": "code",
   "execution_count": 130,
   "id": "cf8a79d9-21c8-49a9-8ee8-05489d27f65b",
   "metadata": {},
   "outputs": [
    {
     "name": "stdout",
     "output_type": "stream",
     "text": [
      "[[[213 213 213]\n",
      "  [213 213 213]\n",
      "  [213 213 213]\n",
      "  ...\n",
      "  [213 213 213]\n",
      "  [213 213 213]\n",
      "  [213 213 213]]\n",
      "\n",
      " [[213 213 213]\n",
      "  [213 213 213]\n",
      "  [213 213 213]\n",
      "  ...\n",
      "  [213 213 213]\n",
      "  [213 213 213]\n",
      "  [213 213 213]]\n",
      "\n",
      " [[213 213 213]\n",
      "  [213 213 213]\n",
      "  [213 213 213]\n",
      "  ...\n",
      "  [213 213 213]\n",
      "  [213 213 213]\n",
      "  [213 213 213]]\n",
      "\n",
      " ...\n",
      "\n",
      " [[ 40  40  40]\n",
      "  [ 42  42  42]\n",
      "  [ 41  41  41]\n",
      "  ...\n",
      "  [ 39  39  39]\n",
      "  [ 41  41  41]\n",
      "  [ 40  40  40]]\n",
      "\n",
      " [[ 40  40  40]\n",
      "  [ 40  40  40]\n",
      "  [ 42  42  42]\n",
      "  ...\n",
      "  [ 41  41  41]\n",
      "  [ 40  40  40]\n",
      "  [ 39  39  39]]\n",
      "\n",
      " [[ 42  42  42]\n",
      "  [ 40  40  40]\n",
      "  [ 42  42  42]\n",
      "  ...\n",
      "  [ 40  40  40]\n",
      "  [ 41  41  41]\n",
      "  [ 41  41  41]]]\n"
     ]
    }
   ],
   "source": [
    "print(image_1)"
   ]
  },
  {
   "cell_type": "code",
   "execution_count": 88,
   "id": "c546d9b6-c99d-4470-9b72-400bd62ac04d",
   "metadata": {},
   "outputs": [],
   "source": [
    "image_2 = cv2.imread(\"E:/Learning_skills/Computer_vision/data/brightness/image_2.png\", cv2.IMREAD_COLOR)"
   ]
  },
  {
   "cell_type": "code",
   "execution_count": 89,
   "id": "02d62692-3073-4e2d-98c4-6bb68235108c",
   "metadata": {},
   "outputs": [
    {
     "name": "stdout",
     "output_type": "stream",
     "text": [
      "[[[255 255 255]\n",
      "  [255 255 255]\n",
      "  [255 255 255]\n",
      "  ...\n",
      "  [255 255 255]\n",
      "  [255 255 255]\n",
      "  [255 255 255]]\n",
      "\n",
      " [[255 255 255]\n",
      "  [255 255 255]\n",
      "  [255 255 255]\n",
      "  ...\n",
      "  [255 255 255]\n",
      "  [255 255 255]\n",
      "  [255 255 255]]\n",
      "\n",
      " [[255 255 255]\n",
      "  [255 255 255]\n",
      "  [255 255 255]\n",
      "  ...\n",
      "  [255 255 255]\n",
      "  [255 255 255]\n",
      "  [255 255 255]]\n",
      "\n",
      " ...\n",
      "\n",
      " [[ 75  75  75]\n",
      "  [ 79  79  79]\n",
      "  [ 77  77  77]\n",
      "  ...\n",
      "  [ 73  73  73]\n",
      "  [ 77  77  77]\n",
      "  [ 75  75  75]]\n",
      "\n",
      " [[ 75  75  75]\n",
      "  [ 75  75  75]\n",
      "  [ 79  79  79]\n",
      "  ...\n",
      "  [ 77  77  77]\n",
      "  [ 75  75  75]\n",
      "  [ 73  73  73]]\n",
      "\n",
      " [[ 79  79  79]\n",
      "  [ 75  75  75]\n",
      "  [ 79  79  79]\n",
      "  ...\n",
      "  [ 75  75  75]\n",
      "  [ 77  77  77]\n",
      "  [ 77  77  77]]]\n"
     ]
    }
   ],
   "source": [
    "print(image_2)"
   ]
  },
  {
   "cell_type": "markdown",
   "id": "3f4d98d3-fbe0-4640-9d02-b2c61ea7c38a",
   "metadata": {},
   "source": [
    "I have two same images but one is brighter than the other.\n",
    "\n",
    "- Image 1: Normal Image\n",
    "- Image 2: Brighter Image\n",
    "- Image 3: Brighter than the Image 2"
   ]
  },
  {
   "cell_type": "code",
   "execution_count": 90,
   "id": "6f3e850b-3167-4b2a-b741-a4cc1c00de55",
   "metadata": {},
   "outputs": [],
   "source": [
    "image_3 = cv2.imread(\"E:/Learning_skills/Computer_vision/data/brightness/image_3.png\", cv2.IMREAD_COLOR)"
   ]
  },
  {
   "cell_type": "code",
   "execution_count": 91,
   "id": "3d188aac-8c0c-4ddb-9359-0669cee11563",
   "metadata": {},
   "outputs": [
    {
     "data": {
      "text/plain": [
       "array([[[255, 255, 255],\n",
       "        [255, 255, 255],\n",
       "        [255, 255, 255],\n",
       "        ...,\n",
       "        [255, 255, 255],\n",
       "        [255, 255, 255],\n",
       "        [255, 255, 255]],\n",
       "\n",
       "       [[255, 255, 255],\n",
       "        [255, 255, 255],\n",
       "        [255, 255, 255],\n",
       "        ...,\n",
       "        [255, 255, 255],\n",
       "        [255, 255, 255],\n",
       "        [255, 255, 255]],\n",
       "\n",
       "       [[255, 255, 255],\n",
       "        [255, 255, 255],\n",
       "        [255, 255, 255],\n",
       "        ...,\n",
       "        [255, 255, 255],\n",
       "        [255, 255, 255],\n",
       "        [255, 255, 255]],\n",
       "\n",
       "       ...,\n",
       "\n",
       "       [[141, 141, 141],\n",
       "        [148, 148, 148],\n",
       "        [145, 145, 145],\n",
       "        ...,\n",
       "        [137, 137, 137],\n",
       "        [145, 145, 145],\n",
       "        [141, 141, 141]],\n",
       "\n",
       "       [[141, 141, 141],\n",
       "        [141, 141, 141],\n",
       "        [148, 148, 148],\n",
       "        ...,\n",
       "        [145, 145, 145],\n",
       "        [141, 141, 141],\n",
       "        [137, 137, 137]],\n",
       "\n",
       "       [[148, 148, 148],\n",
       "        [141, 141, 141],\n",
       "        [148, 148, 148],\n",
       "        ...,\n",
       "        [141, 141, 141],\n",
       "        [145, 145, 145],\n",
       "        [145, 145, 145]]], dtype=uint8)"
      ]
     },
     "execution_count": 91,
     "metadata": {},
     "output_type": "execute_result"
    }
   ],
   "source": [
    "image_3"
   ]
  },
  {
   "cell_type": "markdown",
   "id": "3e0413c1-dd09-420e-a61f-aa594bc8978f",
   "metadata": {},
   "source": [
    "Mean of 3 channels of Image_1"
   ]
  },
  {
   "cell_type": "code",
   "execution_count": 92,
   "id": "a8469387-6a38-44ff-9a40-1a6db46461c7",
   "metadata": {},
   "outputs": [],
   "source": [
    "image_1_mean = np.mean(image_1, axis=1).mean(axis=0)"
   ]
  },
  {
   "cell_type": "code",
   "execution_count": 93,
   "id": "09c8c0cb-869a-494a-b35a-b2b5a681cf90",
   "metadata": {},
   "outputs": [
    {
     "data": {
      "text/plain": [
       "array([194.51287118, 194.5217875 , 194.42857892])"
      ]
     },
     "execution_count": 93,
     "metadata": {},
     "output_type": "execute_result"
    }
   ],
   "source": [
    "image_1_mean"
   ]
  },
  {
   "cell_type": "markdown",
   "id": "eb389a8b-2238-48f1-8afe-f45f58ad5489",
   "metadata": {},
   "source": [
    "Mean of 3 channels of Image_2"
   ]
  },
  {
   "cell_type": "code",
   "execution_count": 94,
   "id": "a6901732-56c5-4650-98b4-4500dd80dfe4",
   "metadata": {},
   "outputs": [],
   "source": [
    "image_2_mean = np.mean(image_2, axis=1).mean(axis=0)"
   ]
  },
  {
   "cell_type": "code",
   "execution_count": 95,
   "id": "161f217d-4491-44a2-b725-8266687ffadf",
   "metadata": {},
   "outputs": [
    {
     "data": {
      "text/plain": [
       "array([235.46477131, 235.571219  , 235.38399448])"
      ]
     },
     "execution_count": 95,
     "metadata": {},
     "output_type": "execute_result"
    }
   ],
   "source": [
    "image_2_mean"
   ]
  },
  {
   "cell_type": "markdown",
   "id": "3536dc05-b828-4c27-8d33-ffaf752bda04",
   "metadata": {},
   "source": [
    "Mean of 3 channels of Image_3"
   ]
  },
  {
   "cell_type": "code",
   "execution_count": 96,
   "id": "9b24ae04-5659-42fd-b069-26e3f0d88313",
   "metadata": {},
   "outputs": [],
   "source": [
    "image_3_mean = np.mean(image_3, axis=1).mean(axis=0)"
   ]
  },
  {
   "cell_type": "code",
   "execution_count": 97,
   "id": "d99530b8-cf5d-4de7-879d-e1e0419aa21d",
   "metadata": {},
   "outputs": [
    {
     "data": {
      "text/plain": [
       "array([240.82043928, 240.93794229, 240.77939124])"
      ]
     },
     "execution_count": 97,
     "metadata": {},
     "output_type": "execute_result"
    }
   ],
   "source": [
    "image_3_mean"
   ]
  },
  {
   "cell_type": "code",
   "execution_count": null,
   "id": "d4da3158-8193-4a69-9c02-49c570c01be0",
   "metadata": {},
   "outputs": [],
   "source": []
  },
  {
   "cell_type": "markdown",
   "id": "68743d8f-9a1a-487e-8442-c5d1976cbae9",
   "metadata": {},
   "source": [
    "From the above BGR color space numpy mean values of 3 channels:\n",
    "- If the light (intensity of color) increases, then the image's brightness also increases.\n",
    "- We can see the increase of three color channels of the 3 images one by one."
   ]
  },
  {
   "cell_type": "markdown",
   "id": "d845f45e-c5c0-4fa4-8842-e83874db9e27",
   "metadata": {},
   "source": [
    "Now, let's see the three images"
   ]
  },
  {
   "cell_type": "markdown",
   "id": "9fc8033c-74db-452c-ae94-64949a990cf6",
   "metadata": {},
   "source": [
    "1. Image 1"
   ]
  },
  {
   "cell_type": "code",
   "execution_count": 98,
   "id": "b267167f-5689-46e6-aa94-70d79a7ee672",
   "metadata": {},
   "outputs": [
    {
     "data": {
      "text/plain": [
       "<matplotlib.image.AxesImage at 0x1cca903adb0>"
      ]
     },
     "execution_count": 98,
     "metadata": {},
     "output_type": "execute_result"
    },
    {
     "data": {
      "image/png": "[encoded data removed]",
      "text/plain": [
       "<Figure size 640x480 with 1 Axes>"
      ]
     },
     "metadata": {},
     "output_type": "display_data"
    }
   ],
   "source": [
    "plt.imshow(image_1)"
   ]
  },
  {
   "cell_type": "markdown",
   "id": "8dd37852-f4d7-426b-8e87-b2b2e4593a45",
   "metadata": {},
   "source": [
    "2. Image 2"
   ]
  },
  {
   "cell_type": "code",
   "execution_count": 99,
   "id": "46df8b89-6910-48d9-861c-02c2e85cecdb",
   "metadata": {},
   "outputs": [
    {
     "data": {
      "text/plain": [
       "<matplotlib.image.AxesImage at 0x1cca93c9e20>"
      ]
     },
     "execution_count": 99,
     "metadata": {},
     "output_type": "execute_result"
    },
    {
     "data": {
      "image/png": "[encoded data removed]",
      "text/plain": [
       "<Figure size 640x480 with 1 Axes>"
      ]
     },
     "metadata": {},
     "output_type": "display_data"
    }
   ],
   "source": [
    "plt.imshow(image_2)"
   ]
  },
  {
   "cell_type": "markdown",
   "id": "4faa31c5-f262-475d-991b-62d29551fd35",
   "metadata": {},
   "source": [
    "3. Image 3"
   ]
  },
  {
   "cell_type": "code",
   "execution_count": 100,
   "id": "8649eb47-be11-42b8-9f9b-7d4257809cb3",
   "metadata": {},
   "outputs": [
    {
     "data": {
      "text/plain": [
       "<matplotlib.image.AxesImage at 0x1cca93ccbf0>"
      ]
     },
     "execution_count": 100,
     "metadata": {},
     "output_type": "execute_result"
    },
    {
     "data": {
      "image/png": "[encoded data removed]",
      "text/plain": [
       "<Figure size 640x480 with 1 Axes>"
      ]
     },
     "metadata": {},
     "output_type": "display_data"
    }
   ],
   "source": [
    "plt.imshow(image_3)"
   ]
  },
  {
   "cell_type": "markdown",
   "id": "261b550d-0cca-4ed6-b9a5-79cd0c6b440d",
   "metadata": {},
   "source": [
    "**HSL color space**"
   ]
  },
  {
   "cell_type": "markdown",
   "id": "27e0eb3c-5616-436e-8030-b562de0228de",
   "metadata": {},
   "source": [
    "- H -> Hue (represent color on wheel (0 to 360)\n",
    "- S -> Saturation (0 - 100 %) -> Intensity of color\n",
    "  \n",
    "      0 means full shade of grey\n",
    "      100 means no shade of grey\n",
    "  \n",
    "- V -> value (0 - 255)\n",
    "  \n",
    "      0 means completely black\n",
    "      255 means completely white"
   ]
  },
  {
   "cell_type": "markdown",
   "id": "407bc0eb-1d01-478f-8573-7ba826db16e7",
   "metadata": {},
   "source": [
    "**Image 1**"
   ]
  },
  {
   "cell_type": "code",
   "execution_count": 101,
   "id": "a9667e6e-3c3b-4e34-9014-ef9a5da1e181",
   "metadata": {},
   "outputs": [],
   "source": [
    "image_1_hsv = cv2.cvtColor(image_1, cv2.COLOR_BGR2HSV)"
   ]
  },
  {
   "cell_type": "code",
   "execution_count": 102,
   "id": "d7f30b0c-f792-4547-8f9e-cef9c5e9dc48",
   "metadata": {},
   "outputs": [
    {
     "data": {
      "text/plain": [
       "array([[[  0,   0, 213],\n",
       "        [  0,   0, 213],\n",
       "        [  0,   0, 213],\n",
       "        ...,\n",
       "        [  0,   0, 213],\n",
       "        [  0,   0, 213],\n",
       "        [  0,   0, 213]],\n",
       "\n",
       "       [[  0,   0, 213],\n",
       "        [  0,   0, 213],\n",
       "        [  0,   0, 213],\n",
       "        ...,\n",
       "        [  0,   0, 213],\n",
       "        [  0,   0, 213],\n",
       "        [  0,   0, 213]],\n",
       "\n",
       "       [[  0,   0, 213],\n",
       "        [  0,   0, 213],\n",
       "        [  0,   0, 213],\n",
       "        ...,\n",
       "        [  0,   0, 213],\n",
       "        [  0,   0, 213],\n",
       "        [  0,   0, 213]],\n",
       "\n",
       "       ...,\n",
       "\n",
       "       [[  0,   0,  40],\n",
       "        [  0,   0,  42],\n",
       "        [  0,   0,  41],\n",
       "        ...,\n",
       "        [  0,   0,  39],\n",
       "        [  0,   0,  41],\n",
       "        [  0,   0,  40]],\n",
       "\n",
       "       [[  0,   0,  40],\n",
       "        [  0,   0,  40],\n",
       "        [  0,   0,  42],\n",
       "        ...,\n",
       "        [  0,   0,  41],\n",
       "        [  0,   0,  40],\n",
       "        [  0,   0,  39]],\n",
       "\n",
       "       [[  0,   0,  42],\n",
       "        [  0,   0,  40],\n",
       "        [  0,   0,  42],\n",
       "        ...,\n",
       "        [  0,   0,  40],\n",
       "        [  0,   0,  41],\n",
       "        [  0,   0,  41]]], dtype=uint8)"
      ]
     },
     "execution_count": 102,
     "metadata": {},
     "output_type": "execute_result"
    }
   ],
   "source": [
    "image_1_hsv"
   ]
  },
  {
   "cell_type": "code",
   "execution_count": 103,
   "id": "7195fc9a-ca66-44c8-9130-61a2114ae28a",
   "metadata": {},
   "outputs": [],
   "source": [
    "image_1_hsv_mean = np.mean(image_1_hsv, axis=1).mean(axis=0)"
   ]
  },
  {
   "cell_type": "code",
   "execution_count": 104,
   "id": "ba0cf8ee-6e08-4f35-9e19-3f3c5962c34b",
   "metadata": {},
   "outputs": [
    {
     "data": {
      "text/plain": [
       "array([  0.80325864,   1.0492504 , 194.89664356])"
      ]
     },
     "execution_count": 104,
     "metadata": {},
     "output_type": "execute_result"
    }
   ],
   "source": [
    "image_1_hsv_mean"
   ]
  },
  {
   "cell_type": "markdown",
   "id": "f13300e0-d254-487e-aa76-2fbb2f68eb31",
   "metadata": {},
   "source": [
    "**Image 2**"
   ]
  },
  {
   "cell_type": "code",
   "execution_count": 105,
   "id": "e4f3d8b5-aecc-4449-b5f3-87b67be1d956",
   "metadata": {},
   "outputs": [],
   "source": [
    "image_2_hsv = cv2.cvtColor(image_2, cv2.COLOR_BGR2HSV)"
   ]
  },
  {
   "cell_type": "code",
   "execution_count": 106,
   "id": "14f4b11f-6883-4f49-bd5e-afdc98f30793",
   "metadata": {},
   "outputs": [
    {
     "data": {
      "text/plain": [
       "array([[[  0,   0, 255],\n",
       "        [  0,   0, 255],\n",
       "        [  0,   0, 255],\n",
       "        ...,\n",
       "        [  0,   0, 255],\n",
       "        [  0,   0, 255],\n",
       "        [  0,   0, 255]],\n",
       "\n",
       "       [[  0,   0, 255],\n",
       "        [  0,   0, 255],\n",
       "        [  0,   0, 255],\n",
       "        ...,\n",
       "        [  0,   0, 255],\n",
       "        [  0,   0, 255],\n",
       "        [  0,   0, 255]],\n",
       "\n",
       "       [[  0,   0, 255],\n",
       "        [  0,   0, 255],\n",
       "        [  0,   0, 255],\n",
       "        ...,\n",
       "        [  0,   0, 255],\n",
       "        [  0,   0, 255],\n",
       "        [  0,   0, 255]],\n",
       "\n",
       "       ...,\n",
       "\n",
       "       [[  0,   0,  75],\n",
       "        [  0,   0,  79],\n",
       "        [  0,   0,  77],\n",
       "        ...,\n",
       "        [  0,   0,  73],\n",
       "        [  0,   0,  77],\n",
       "        [  0,   0,  75]],\n",
       "\n",
       "       [[  0,   0,  75],\n",
       "        [  0,   0,  75],\n",
       "        [  0,   0,  79],\n",
       "        ...,\n",
       "        [  0,   0,  77],\n",
       "        [  0,   0,  75],\n",
       "        [  0,   0,  73]],\n",
       "\n",
       "       [[  0,   0,  79],\n",
       "        [  0,   0,  75],\n",
       "        [  0,   0,  79],\n",
       "        ...,\n",
       "        [  0,   0,  75],\n",
       "        [  0,   0,  77],\n",
       "        [  0,   0,  77]]], dtype=uint8)"
      ]
     },
     "execution_count": 106,
     "metadata": {},
     "output_type": "execute_result"
    }
   ],
   "source": [
    "image_2_hsv"
   ]
  },
  {
   "cell_type": "code",
   "execution_count": 107,
   "id": "5b08915f-e200-4b0a-9eda-32c2c61881a4",
   "metadata": {},
   "outputs": [],
   "source": [
    "image_2_hsv_mean = np.mean(image_2_hsv, axis=1).mean(axis=0)"
   ]
  },
  {
   "cell_type": "code",
   "execution_count": 108,
   "id": "f3569e89-8595-447c-ae80-e9fca7b9e3b2",
   "metadata": {},
   "outputs": [
    {
     "data": {
      "text/plain": [
       "array([  0.44181804,   0.77988119, 235.80080603])"
      ]
     },
     "execution_count": 108,
     "metadata": {},
     "output_type": "execute_result"
    }
   ],
   "source": [
    "image_2_hsv_mean"
   ]
  },
  {
   "cell_type": "code",
   "execution_count": 109,
   "id": "118414f4-802f-4dec-9a6b-e2a28095fd76",
   "metadata": {},
   "outputs": [],
   "source": [
    "image_3_hsv = cv2.cvtColor(image_3, cv2.COLOR_BGR2HSV)"
   ]
  },
  {
   "cell_type": "code",
   "execution_count": 110,
   "id": "2432fc0c-ddae-45aa-9546-63496f24ed75",
   "metadata": {},
   "outputs": [
    {
     "data": {
      "text/plain": [
       "array([[[  0,   0, 255],\n",
       "        [  0,   0, 255],\n",
       "        [  0,   0, 255],\n",
       "        ...,\n",
       "        [  0,   0, 255],\n",
       "        [  0,   0, 255],\n",
       "        [  0,   0, 255]],\n",
       "\n",
       "       [[  0,   0, 255],\n",
       "        [  0,   0, 255],\n",
       "        [  0,   0, 255],\n",
       "        ...,\n",
       "        [  0,   0, 255],\n",
       "        [  0,   0, 255],\n",
       "        [  0,   0, 255]],\n",
       "\n",
       "       [[  0,   0, 255],\n",
       "        [  0,   0, 255],\n",
       "        [  0,   0, 255],\n",
       "        ...,\n",
       "        [  0,   0, 255],\n",
       "        [  0,   0, 255],\n",
       "        [  0,   0, 255]],\n",
       "\n",
       "       ...,\n",
       "\n",
       "       [[  0,   0, 141],\n",
       "        [  0,   0, 148],\n",
       "        [  0,   0, 145],\n",
       "        ...,\n",
       "        [  0,   0, 137],\n",
       "        [  0,   0, 145],\n",
       "        [  0,   0, 141]],\n",
       "\n",
       "       [[  0,   0, 141],\n",
       "        [  0,   0, 141],\n",
       "        [  0,   0, 148],\n",
       "        ...,\n",
       "        [  0,   0, 145],\n",
       "        [  0,   0, 141],\n",
       "        [  0,   0, 137]],\n",
       "\n",
       "       [[  0,   0, 148],\n",
       "        [  0,   0, 141],\n",
       "        [  0,   0, 148],\n",
       "        ...,\n",
       "        [  0,   0, 141],\n",
       "        [  0,   0, 145],\n",
       "        [  0,   0, 145]]], dtype=uint8)"
      ]
     },
     "execution_count": 110,
     "metadata": {},
     "output_type": "execute_result"
    }
   ],
   "source": [
    "image_3_hsv"
   ]
  },
  {
   "cell_type": "code",
   "execution_count": 111,
   "id": "dbbcf329-0e25-4c36-883d-e331d82ddc68",
   "metadata": {},
   "outputs": [],
   "source": [
    "image_3_hsv_mean = np.mean(image_3_hsv, axis=1).mean(axis=0)"
   ]
  },
  {
   "cell_type": "code",
   "execution_count": 112,
   "id": "09586f28-b23d-454b-a7c7-930f668157bd",
   "metadata": {},
   "outputs": [
    {
     "data": {
      "text/plain": [
       "array([  0.25434187,   0.50819283, 241.04767284])"
      ]
     },
     "execution_count": 112,
     "metadata": {},
     "output_type": "execute_result"
    }
   ],
   "source": [
    "image_3_hsv_mean"
   ]
  },
  {
   "cell_type": "markdown",
   "id": "1e73a2d2-5bd6-4d70-bbee-abcd21b77470",
   "metadata": {},
   "source": [
    "**From observing the mean values of V in HSV, the values increases over the image.**"
   ]
  },
  {
   "cell_type": "code",
   "execution_count": null,
   "id": "342eda53-d16a-44a6-a492-ce376e5c2ad6",
   "metadata": {},
   "outputs": [],
   "source": []
  },
  {
   "cell_type": "code",
   "execution_count": null,
   "id": "489c3687-b555-49ca-9d59-a820c9ab1b7a",
   "metadata": {},
   "outputs": [],
   "source": []
  },
  {
   "cell_type": "markdown",
   "id": "ecf2b863-2a54-4e1c-aada-a1765912e354",
   "metadata": {},
   "source": [
    "**YUV color space**"
   ]
  },
  {
   "cell_type": "markdown",
   "id": "a7bb0a3f-5c76-4f7c-83ad-4017059ce5ee",
   "metadata": {},
   "source": [
    "Y -> Luminance (Lightness or Brightness)\n",
    "\n",
    "U -> Chroma\n",
    "\n",
    "v -> Chroma"
   ]
  },
  {
   "cell_type": "code",
   "execution_count": 113,
   "id": "03432c89-c4b1-49c0-b796-3244fe322665",
   "metadata": {},
   "outputs": [],
   "source": [
    "image_1_yuv = cv2.cvtColor(image_1, cv2.COLOR_BGR2YUV)"
   ]
  },
  {
   "cell_type": "code",
   "execution_count": 114,
   "id": "c64e57c6-6098-4764-a191-e627a31fde57",
   "metadata": {},
   "outputs": [
    {
     "data": {
      "text/plain": [
       "array([[[213, 128, 128],\n",
       "        [213, 128, 128],\n",
       "        [213, 128, 128],\n",
       "        ...,\n",
       "        [213, 128, 128],\n",
       "        [213, 128, 128],\n",
       "        [213, 128, 128]],\n",
       "\n",
       "       [[213, 128, 128],\n",
       "        [213, 128, 128],\n",
       "        [213, 128, 128],\n",
       "        ...,\n",
       "        [213, 128, 128],\n",
       "        [213, 128, 128],\n",
       "        [213, 128, 128]],\n",
       "\n",
       "       [[213, 128, 128],\n",
       "        [213, 128, 128],\n",
       "        [213, 128, 128],\n",
       "        ...,\n",
       "        [213, 128, 128],\n",
       "        [213, 128, 128],\n",
       "        [213, 128, 128]],\n",
       "\n",
       "       ...,\n",
       "\n",
       "       [[ 40, 128, 128],\n",
       "        [ 42, 128, 128],\n",
       "        [ 41, 128, 128],\n",
       "        ...,\n",
       "        [ 39, 128, 128],\n",
       "        [ 41, 128, 128],\n",
       "        [ 40, 128, 128]],\n",
       "\n",
       "       [[ 40, 128, 128],\n",
       "        [ 40, 128, 128],\n",
       "        [ 42, 128, 128],\n",
       "        ...,\n",
       "        [ 41, 128, 128],\n",
       "        [ 40, 128, 128],\n",
       "        [ 39, 128, 128]],\n",
       "\n",
       "       [[ 42, 128, 128],\n",
       "        [ 40, 128, 128],\n",
       "        [ 42, 128, 128],\n",
       "        ...,\n",
       "        [ 40, 128, 128],\n",
       "        [ 41, 128, 128],\n",
       "        [ 41, 128, 128]]], dtype=uint8)"
      ]
     },
     "execution_count": 114,
     "metadata": {},
     "output_type": "execute_result"
    }
   ],
   "source": [
    "image_1_yuv"
   ]
  },
  {
   "cell_type": "code",
   "execution_count": 115,
   "id": "e588c3fa-f828-4066-bff4-31e9150898e5",
   "metadata": {},
   "outputs": [],
   "source": [
    "image_1_yuv_mean = np.mean(image_1_yuv, axis = 1).mean(axis = 0)"
   ]
  },
  {
   "cell_type": "code",
   "execution_count": 116,
   "id": "090493ba-3715-4a10-8fa2-e616f1cd310a",
   "metadata": {},
   "outputs": [
    {
     "data": {
      "text/plain": [
       "array([194.49362685, 128.00905358, 127.94199057])"
      ]
     },
     "execution_count": 116,
     "metadata": {},
     "output_type": "execute_result"
    }
   ],
   "source": [
    "image_1_yuv_mean"
   ]
  },
  {
   "cell_type": "markdown",
   "id": "db90fb32-1712-401f-96a7-f6cf40352f09",
   "metadata": {},
   "source": [
    "**Image 2**"
   ]
  },
  {
   "cell_type": "code",
   "execution_count": 117,
   "id": "5e7d3b0f-b4a2-4aac-8eb4-e91e3835a902",
   "metadata": {},
   "outputs": [],
   "source": [
    "image_2_yuv = cv2.cvtColor(image_2, cv2.COLOR_BGR2YUV)"
   ]
  },
  {
   "cell_type": "code",
   "execution_count": 118,
   "id": "5aea83db-f37b-4e06-8beb-26b7940173ef",
   "metadata": {},
   "outputs": [
    {
     "data": {
      "text/plain": [
       "array([[[255, 128, 128],\n",
       "        [255, 128, 128],\n",
       "        [255, 128, 128],\n",
       "        ...,\n",
       "        [255, 128, 128],\n",
       "        [255, 128, 128],\n",
       "        [255, 128, 128]],\n",
       "\n",
       "       [[255, 128, 128],\n",
       "        [255, 128, 128],\n",
       "        [255, 128, 128],\n",
       "        ...,\n",
       "        [255, 128, 128],\n",
       "        [255, 128, 128],\n",
       "        [255, 128, 128]],\n",
       "\n",
       "       [[255, 128, 128],\n",
       "        [255, 128, 128],\n",
       "        [255, 128, 128],\n",
       "        ...,\n",
       "        [255, 128, 128],\n",
       "        [255, 128, 128],\n",
       "        [255, 128, 128]],\n",
       "\n",
       "       ...,\n",
       "\n",
       "       [[ 75, 128, 128],\n",
       "        [ 79, 128, 128],\n",
       "        [ 77, 128, 128],\n",
       "        ...,\n",
       "        [ 73, 128, 128],\n",
       "        [ 77, 128, 128],\n",
       "        [ 75, 128, 128]],\n",
       "\n",
       "       [[ 75, 128, 128],\n",
       "        [ 75, 128, 128],\n",
       "        [ 79, 128, 128],\n",
       "        ...,\n",
       "        [ 77, 128, 128],\n",
       "        [ 75, 128, 128],\n",
       "        [ 73, 128, 128]],\n",
       "\n",
       "       [[ 79, 128, 128],\n",
       "        [ 75, 128, 128],\n",
       "        [ 79, 128, 128],\n",
       "        ...,\n",
       "        [ 75, 128, 128],\n",
       "        [ 77, 128, 128],\n",
       "        [ 77, 128, 128]]], dtype=uint8)"
      ]
     },
     "execution_count": 118,
     "metadata": {},
     "output_type": "execute_result"
    }
   ],
   "source": [
    "image_2_yuv"
   ]
  },
  {
   "cell_type": "code",
   "execution_count": 119,
   "id": "eaf61876-f9ef-4525-805e-2c085183b2c6",
   "metadata": {},
   "outputs": [],
   "source": [
    "image_2_yuv_mean = np.mean(image_2_yuv, axis = 1).mean(axis = 0)"
   ]
  },
  {
   "cell_type": "code",
   "execution_count": 120,
   "id": "313d965e-792a-4782-8afd-2e59d81371c0",
   "metadata": {},
   "outputs": [
    {
     "data": {
      "text/plain": [
       "array([235.50342869, 127.98101017, 127.89689521])"
      ]
     },
     "execution_count": 120,
     "metadata": {},
     "output_type": "execute_result"
    }
   ],
   "source": [
    "image_2_yuv_mean "
   ]
  },
  {
   "cell_type": "markdown",
   "id": "91a8fb57-25e0-43ef-8863-0ea0c2480e12",
   "metadata": {},
   "source": [
    "**Image 3**"
   ]
  },
  {
   "cell_type": "code",
   "execution_count": 121,
   "id": "913456a4-a2f6-473c-9740-56fee4fff34c",
   "metadata": {},
   "outputs": [],
   "source": [
    "image_3_yuv = cv2.cvtColor(image_3, cv2.COLOR_BGR2YUV)"
   ]
  },
  {
   "cell_type": "code",
   "execution_count": 122,
   "id": "19c7a371-be14-4880-bfd9-6f016d0e9821",
   "metadata": {},
   "outputs": [
    {
     "data": {
      "text/plain": [
       "array([[[255, 128, 128],\n",
       "        [255, 128, 128],\n",
       "        [255, 128, 128],\n",
       "        ...,\n",
       "        [255, 128, 128],\n",
       "        [255, 128, 128],\n",
       "        [255, 128, 128]],\n",
       "\n",
       "       [[255, 128, 128],\n",
       "        [255, 128, 128],\n",
       "        [255, 128, 128],\n",
       "        ...,\n",
       "        [255, 128, 128],\n",
       "        [255, 128, 128],\n",
       "        [255, 128, 128]],\n",
       "\n",
       "       [[255, 128, 128],\n",
       "        [255, 128, 128],\n",
       "        [255, 128, 128],\n",
       "        ...,\n",
       "        [255, 128, 128],\n",
       "        [255, 128, 128],\n",
       "        [255, 128, 128]],\n",
       "\n",
       "       ...,\n",
       "\n",
       "       [[141, 128, 128],\n",
       "        [148, 128, 128],\n",
       "        [145, 128, 128],\n",
       "        ...,\n",
       "        [137, 128, 128],\n",
       "        [145, 128, 128],\n",
       "        [141, 128, 128]],\n",
       "\n",
       "       [[141, 128, 128],\n",
       "        [141, 128, 128],\n",
       "        [148, 128, 128],\n",
       "        ...,\n",
       "        [145, 128, 128],\n",
       "        [141, 128, 128],\n",
       "        [137, 128, 128]],\n",
       "\n",
       "       [[148, 128, 128],\n",
       "        [141, 128, 128],\n",
       "        [148, 128, 128],\n",
       "        ...,\n",
       "        [141, 128, 128],\n",
       "        [145, 128, 128],\n",
       "        [145, 128, 128]]], dtype=uint8)"
      ]
     },
     "execution_count": 122,
     "metadata": {},
     "output_type": "execute_result"
    }
   ],
   "source": [
    "image_3_yuv"
   ]
  },
  {
   "cell_type": "code",
   "execution_count": 123,
   "id": "bdb6731e-eb43-495a-b6f5-d0550c92554c",
   "metadata": {},
   "outputs": [],
   "source": [
    "image_3_yuv_mean = np.mean(image_3_yuv, axis = 1).mean(axis = 0)"
   ]
  },
  {
   "cell_type": "code",
   "execution_count": 124,
   "id": "7558c1d5-4424-4835-8cad-8dbc942897c5",
   "metadata": {},
   "outputs": [
    {
     "data": {
      "text/plain": [
       "array([240.87712661, 127.97223303, 127.91929085])"
      ]
     },
     "execution_count": 124,
     "metadata": {},
     "output_type": "execute_result"
    }
   ],
   "source": [
    "image_3_yuv_mean"
   ]
  },
  {
   "cell_type": "code",
   "execution_count": null,
   "id": "c0e562d8-3189-4322-92b8-3daee59b224b",
   "metadata": {},
   "outputs": [],
   "source": []
  },
  {
   "cell_type": "code",
   "execution_count": null,
   "id": "0bdcac0f-57cd-4c02-a81e-3434f0f39b1a",
   "metadata": {},
   "outputs": [],
   "source": []
  },
  {
   "cell_type": "code",
   "execution_count": 126,
   "id": "14b457ed-c193-491f-b995-7ed8a5b13a80",
   "metadata": {},
   "outputs": [
    {
     "data": {
      "text/plain": [
       "(768, 1366, 3)"
      ]
     },
     "execution_count": 126,
     "metadata": {},
     "output_type": "execute_result"
    }
   ],
   "source": [
    "image_1.shape"
   ]
  },
  {
   "cell_type": "code",
   "execution_count": null,
   "id": "8950712e-5c01-4bdd-87ca-ed63d7612a24",
   "metadata": {},
   "outputs": [],
   "source": []
  }
 ],
 "metadata": {
  "kernelspec": {
   "display_name": "Python 3 (ipykernel)",
   "language": "python",
   "name": "python3"
  },
  "language_info": {
   "codemirror_mode": {
    "name": "ipython",
    "version": 3
   },
   "file_extension": ".py",
   "mimetype": "text/x-python",
   "name": "python",
   "nbconvert_exporter": "python",
   "pygments_lexer": "ipython3",
   "version": "3.12.3"
  }
 },
 "nbformat": 4,
 "nbformat_minor": 5
}
